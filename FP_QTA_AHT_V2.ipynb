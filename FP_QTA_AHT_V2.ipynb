{
  "nbformat": 4,
  "nbformat_minor": 0,
  "metadata": {
    "colab": {
      "provenance": [],
      "collapsed_sections": [
        "TjEqTH7yvFu3",
        "efXrmVuwhWsN"
      ],
      "authorship_tag": "ABX9TyP0pRxXwtEgx/e7CrrsuBm/",
      "include_colab_link": true
    },
    "kernelspec": {
      "name": "python3",
      "display_name": "Python 3"
    }
  },
  "cells": [
    {
      "cell_type": "markdown",
      "metadata": {
        "id": "view-in-github",
        "colab_type": "text"
      },
      "source": [
        "<a href=\"https://colab.research.google.com/github/agmgaffar123/-plotly.github.io/blob/master/FP_QTA_AHT_V2.ipynb\" target=\"_parent\"><img src=\"https://colab.research.google.com/assets/colab-badge.svg\" alt=\"Open In Colab\"/></a>"
      ]
    },
    {
      "cell_type": "markdown",
      "metadata": {
        "id": "SbuSuUzre23i"
      },
      "source": [
        "### ***QTA AHT Analysis***"
      ]
    },
    {
      "cell_type": "markdown",
      "metadata": {
        "id": "DjK-3PZeT-RP"
      },
      "source": [
        "The aim of this exercise is to understand the current AHT and the factors that influence.\n",
        "\n",
        "Through this exercise, we aim to perform following hypothesis testing.\n",
        "a. Existence and the impact of outliers \n",
        "1. Does AHT vary between market category significantly?\n",
        "2. Does AHT vary between type significantly?\n",
        "3. Does AHT vary between mfg sites significantly?\n",
        "4. Does AHT vary based on the service level?\n",
        "5. Does AHT vary based on the day the job is recieved?\n",
        "6. Is there a relationship between page count and AHT?\n"
      ]
    },
    {
      "cell_type": "code",
      "metadata": {
        "id": "7lV3QNFsX6r8"
      },
      "source": [
        "#Importing required libraries\n",
        "import numpy as np   \n",
        "import gspread\n",
        "from gspread_dataframe import get_as_dataframe,set_with_dataframe\n",
        "from sklearn.linear_model import LinearRegression\n",
        "import pandas as pd    \n",
        "import matplotlib.pyplot as plt \n",
        "from sklearn import linear_model\n",
        "import statsmodels.api as sm\n",
        "\n",
        "import seaborn as sns\n",
        "from sklearn.model_selection import train_test_split # Sklearn package's randomized data splitting function"
      ],
      "execution_count": null,
      "outputs": []
    },
    {
      "cell_type": "code",
      "metadata": {
        "id": "gSrs-RH-WS80"
      },
      "source": [
        "#Importing the data file\n",
        "!pip install --upgrade gspread\n",
        "!pip install gspread-dataframe\n",
        "from google.colab import auth\n",
        "auth.authenticate_user()\n",
        "\n",
        "from oauth2client.client import GoogleCredentials\n",
        "\n",
        "gc = gspread.authorize(GoogleCredentials.get_application_default())\n",
        "ws = gc.open('QTA Turn time (5 min) Summary v1').sheet1\n",
        "df=get_as_dataframe(ws)"
      ],
      "execution_count": null,
      "outputs": []
    },
    {
      "cell_type": "code",
      "metadata": {
        "id": "c3icwcgBZ8Q-"
      },
      "source": [
        "ws = gc.open('QTA Turn time (5 min) Summary v1').sheet1\n",
        "df=get_as_dataframe(ws)\n"
      ],
      "execution_count": null,
      "outputs": []
    },
    {
      "cell_type": "markdown",
      "metadata": {
        "id": "aDHgYIEy_Mlc"
      },
      "source": [
        "### **1.Overview** "
      ]
    },
    {
      "cell_type": "code",
      "metadata": {
        "id": "JrlO80e0veDk",
        "colab": {
          "base_uri": "https://localhost:8080/"
        },
        "outputId": "e4f0d72b-3dcb-4d1f-b8ca-35efc716828f"
      },
      "source": [
        "df.shape"
      ],
      "execution_count": null,
      "outputs": [
        {
          "output_type": "execute_result",
          "data": {
            "text/plain": [
              "(1032, 13)"
            ]
          },
          "metadata": {
            "tags": []
          },
          "execution_count": 48
        }
      ]
    },
    {
      "cell_type": "code",
      "metadata": {
        "id": "DHDia7YRav5m",
        "colab": {
          "base_uri": "https://localhost:8080/",
          "height": 107
        },
        "outputId": "3a01fddd-99b7-4322-b18a-975736561a5a"
      },
      "source": [
        "#Overview of the data file\n",
        "df.head(2)"
      ],
      "execution_count": null,
      "outputs": [
        {
          "output_type": "execute_result",
          "data": {
            "text/html": [
              "<div>\n",
              "<style scoped>\n",
              "    .dataframe tbody tr th:only-of-type {\n",
              "        vertical-align: middle;\n",
              "    }\n",
              "\n",
              "    .dataframe tbody tr th {\n",
              "        vertical-align: top;\n",
              "    }\n",
              "\n",
              "    .dataframe thead th {\n",
              "        text-align: right;\n",
              "    }\n",
              "</style>\n",
              "<table border=\"1\" class=\"dataframe\">\n",
              "  <thead>\n",
              "    <tr style=\"text-align: right;\">\n",
              "      <th></th>\n",
              "      <th>Summary_Code</th>\n",
              "      <th>Service_Level</th>\n",
              "      <th>MC</th>\n",
              "      <th>Type</th>\n",
              "      <th>WorkType</th>\n",
              "      <th>Start time</th>\n",
              "      <th>AHT</th>\n",
              "      <th>Pages</th>\n",
              "      <th>Turn_Time (Num)</th>\n",
              "      <th>Segment</th>\n",
              "      <th>Day</th>\n",
              "      <th>Splits</th>\n",
              "      <th>Time</th>\n",
              "    </tr>\n",
              "  </thead>\n",
              "  <tbody>\n",
              "    <tr>\n",
              "      <th>0</th>\n",
              "      <td>10176_4</td>\n",
              "      <td>QTA</td>\n",
              "      <td>GIM</td>\n",
              "      <td>Edgar</td>\n",
              "      <td>Alts</td>\n",
              "      <td>9/19/2020 2:27</td>\n",
              "      <td>147.6</td>\n",
              "      <td>1</td>\n",
              "      <td>2.46</td>\n",
              "      <td>Domestic</td>\n",
              "      <td>6</td>\n",
              "      <td>8</td>\n",
              "      <td>2 AM</td>\n",
              "    </tr>\n",
              "    <tr>\n",
              "      <th>1</th>\n",
              "      <td>10176_4</td>\n",
              "      <td>QTA</td>\n",
              "      <td>GIM</td>\n",
              "      <td>Edgar</td>\n",
              "      <td>Alts</td>\n",
              "      <td>9/19/2020 2:37</td>\n",
              "      <td>9.0</td>\n",
              "      <td>15</td>\n",
              "      <td>2.30</td>\n",
              "      <td>Domestic</td>\n",
              "      <td>6</td>\n",
              "      <td>8</td>\n",
              "      <td>2 AM</td>\n",
              "    </tr>\n",
              "  </tbody>\n",
              "</table>\n",
              "</div>"
            ],
            "text/plain": [
              "  Summary_Code Service_Level   MC   Type  ...   Segment Day  Splits  Time\n",
              "0      10176_4           QTA  GIM  Edgar  ...  Domestic   6       8  2 AM\n",
              "1      10176_4           QTA  GIM  Edgar  ...  Domestic   6       8  2 AM\n",
              "\n",
              "[2 rows x 13 columns]"
            ]
          },
          "metadata": {
            "tags": []
          },
          "execution_count": 49
        }
      ]
    },
    {
      "cell_type": "code",
      "metadata": {
        "id": "qbMAtcw-QA_G"
      },
      "source": [
        "df['Day'] = df['Day'].astype(object)\n",
        "df['Turn_Time (Num)'] = df['Turn_Time (Num)'].astype(object)\n",
        "df['Type'] = df['Type'].astype(object)\n",
        "\n"
      ],
      "execution_count": null,
      "outputs": []
    },
    {
      "cell_type": "code",
      "metadata": {
        "id": "sttjBgamwFEj",
        "colab": {
          "base_uri": "https://localhost:8080/",
          "height": 287
        },
        "outputId": "ab699020-0ae5-41e2-b878-3be60fb5ef6d"
      },
      "source": [
        "#AHT summary\n",
        "\n",
        "df.describe(\t).round(1)"
      ],
      "execution_count": null,
      "outputs": [
        {
          "output_type": "execute_result",
          "data": {
            "text/html": [
              "<div>\n",
              "<style scoped>\n",
              "    .dataframe tbody tr th:only-of-type {\n",
              "        vertical-align: middle;\n",
              "    }\n",
              "\n",
              "    .dataframe tbody tr th {\n",
              "        vertical-align: top;\n",
              "    }\n",
              "\n",
              "    .dataframe thead th {\n",
              "        text-align: right;\n",
              "    }\n",
              "</style>\n",
              "<table border=\"1\" class=\"dataframe\">\n",
              "  <thead>\n",
              "    <tr style=\"text-align: right;\">\n",
              "      <th></th>\n",
              "      <th>AHT</th>\n",
              "      <th>Pages</th>\n",
              "      <th>Splits</th>\n",
              "    </tr>\n",
              "  </thead>\n",
              "  <tbody>\n",
              "    <tr>\n",
              "      <th>count</th>\n",
              "      <td>1032.0</td>\n",
              "      <td>1032.0</td>\n",
              "      <td>1032.0</td>\n",
              "    </tr>\n",
              "    <tr>\n",
              "      <th>mean</th>\n",
              "      <td>27.7</td>\n",
              "      <td>8.5</td>\n",
              "      <td>18.6</td>\n",
              "    </tr>\n",
              "    <tr>\n",
              "      <th>std</th>\n",
              "      <td>47.5</td>\n",
              "      <td>25.4</td>\n",
              "      <td>15.1</td>\n",
              "    </tr>\n",
              "    <tr>\n",
              "      <th>min</th>\n",
              "      <td>0.0</td>\n",
              "      <td>1.0</td>\n",
              "      <td>1.0</td>\n",
              "    </tr>\n",
              "    <tr>\n",
              "      <th>25%</th>\n",
              "      <td>3.6</td>\n",
              "      <td>1.0</td>\n",
              "      <td>7.0</td>\n",
              "    </tr>\n",
              "    <tr>\n",
              "      <th>50%</th>\n",
              "      <td>11.4</td>\n",
              "      <td>2.0</td>\n",
              "      <td>14.0</td>\n",
              "    </tr>\n",
              "    <tr>\n",
              "      <th>75%</th>\n",
              "      <td>28.2</td>\n",
              "      <td>6.0</td>\n",
              "      <td>23.0</td>\n",
              "    </tr>\n",
              "    <tr>\n",
              "      <th>max</th>\n",
              "      <td>382.2</td>\n",
              "      <td>349.0</td>\n",
              "      <td>51.0</td>\n",
              "    </tr>\n",
              "  </tbody>\n",
              "</table>\n",
              "</div>"
            ],
            "text/plain": [
              "          AHT   Pages  Splits\n",
              "count  1032.0  1032.0  1032.0\n",
              "mean     27.7     8.5    18.6\n",
              "std      47.5    25.4    15.1\n",
              "min       0.0     1.0     1.0\n",
              "25%       3.6     1.0     7.0\n",
              "50%      11.4     2.0    14.0\n",
              "75%      28.2     6.0    23.0\n",
              "max     382.2   349.0    51.0"
            ]
          },
          "metadata": {
            "tags": []
          },
          "execution_count": 51
        }
      ]
    },
    {
      "cell_type": "code",
      "metadata": {
        "id": "cY21CJnwfdlR",
        "colab": {
          "base_uri": "https://localhost:8080/",
          "height": 352
        },
        "outputId": "dd0c8158-bc7c-40ff-fb59-181cf36b233b"
      },
      "source": [
        "#Cycle time distribution\n",
        "sns.distplot(df['AHT'])"
      ],
      "execution_count": null,
      "outputs": [
        {
          "output_type": "stream",
          "text": [
            "/usr/local/lib/python3.6/dist-packages/seaborn/distributions.py:2551: FutureWarning: `distplot` is a deprecated function and will be removed in a future version. Please adapt your code to use either `displot` (a figure-level function with similar flexibility) or `histplot` (an axes-level function for histograms).\n",
            "  warnings.warn(msg, FutureWarning)\n"
          ],
          "name": "stderr"
        },
        {
          "output_type": "execute_result",
          "data": {
            "text/plain": [
              "<matplotlib.axes._subplots.AxesSubplot at 0x7f537bacd6d8>"
            ]
          },
          "metadata": {
            "tags": []
          },
          "execution_count": 52
        },
        {
          "output_type": "display_data",
          "data": {
            "image/png": "[encoded data removed]",
            "text/plain": [
              "<Figure size 432x288 with 1 Axes>"
            ]
          },
          "metadata": {
            "tags": [],
            "needs_background": "light"
          }
        }
      ]
    },
    {
      "cell_type": "code",
      "metadata": {
        "id": "eYZgGmurgTm2",
        "colab": {
          "base_uri": "https://localhost:8080/",
          "height": 272
        },
        "outputId": "3bb9d1bb-ef62-440a-f725-6430528fb85f"
      },
      "source": [
        "#Box plot chart of cycle time\n",
        "sns.boxplot(y=\"AHT\", data=df)"
      ],
      "execution_count": null,
      "outputs": [
        {
          "output_type": "execute_result",
          "data": {
            "text/plain": [
              "<matplotlib.axes._subplots.AxesSubplot at 0x7f537be71710>"
            ]
          },
          "metadata": {
            "tags": []
          },
          "execution_count": 53
        },
        {
          "output_type": "display_data",
          "data": {
            "image/png": "[encoded data removed]",
            "text/plain": [
              "<Figure size 432x288 with 1 Axes>"
            ]
          },
          "metadata": {
            "tags": [],
            "needs_background": "light"
          }
        }
      ]
    },
    {
      "cell_type": "markdown",
      "metadata": {
        "id": "rCeAw_10Qvh2"
      },
      "source": [
        "As shown in the above graphs, it is evident that outliers largely impacts the average cycle time"
      ]
    },
    {
      "cell_type": "markdown",
      "metadata": {
        "id": "z0oDn07o1QhN"
      },
      "source": [
        "Outlier Identification"
      ]
    },
    {
      "cell_type": "code",
      "metadata": {
        "id": "R_kLImYo1NrN",
        "colab": {
          "base_uri": "https://localhost:8080/"
        },
        "outputId": "e2f95736-ac88-4f97-d796-f9f017346e00"
      },
      "source": [
        "\n",
        "#Outlier Identification of cycle time\n",
        "q1=df.AHT.quantile(0.25)\n",
        "q3=df.AHT.quantile(0.75)\n",
        "IQR=q3-q1\n",
        "lower_limit=q1-1.5*IQR\n",
        "upper_limit=q3+1.5*IQR\n",
        "upper_limit"
      ],
      "execution_count": null,
      "outputs": [
        {
          "output_type": "execute_result",
          "data": {
            "text/plain": [
              "65.10000000000001"
            ]
          },
          "metadata": {
            "tags": []
          },
          "execution_count": 16
        }
      ]
    },
    {
      "cell_type": "markdown",
      "metadata": {
        "id": "sfY_LQsjVPl-"
      },
      "source": [
        "Cycle time above 1.085 hours to be considered as outliers"
      ]
    },
    {
      "cell_type": "markdown",
      "metadata": {
        "id": "PDT-yWYPhh-g"
      },
      "source": [
        "### **2.Does cycle time vary between market category significantly?**\n"
      ]
    },
    {
      "cell_type": "code",
      "metadata": {
        "id": "sPe2yDC0hQMr",
        "colab": {
          "base_uri": "https://localhost:8080/",
          "height": 301
        },
        "outputId": "9615ca31-2f7d-4fad-dfad-d911c3889fc3"
      },
      "source": [
        "#box plot by site\n",
        "sns.boxplot(x=\"MC\", y=\"AHT\", data=df)"
      ],
      "execution_count": null,
      "outputs": [
        {
          "output_type": "execute_result",
          "data": {
            "text/plain": [
              "<matplotlib.axes._subplots.AxesSubplot at 0x7f537b930278>"
            ]
          },
          "metadata": {
            "tags": []
          },
          "execution_count": 54
        },
        {
          "output_type": "display_data",
          "data": {
            "image/png": "[encoded data removed]",
            "text/plain": [
              "<Figure size 432x288 with 1 Axes>"
            ]
          },
          "metadata": {
            "tags": [],
            "needs_background": "light"
          }
        }
      ]
    },
    {
      "cell_type": "code",
      "metadata": {
        "id": "trYZNyMgByrS",
        "colab": {
          "base_uri": "https://localhost:8080/",
          "height": 167
        },
        "outputId": "bb4008db-592e-4107-b2f7-c4acb8c4584f"
      },
      "source": [
        "df.groupby('MC').describe().round(1)"
      ],
      "execution_count": null,
      "outputs": [
        {
          "output_type": "execute_result",
          "data": {
            "text/html": [
              "<div>\n",
              "<style scoped>\n",
              "    .dataframe tbody tr th:only-of-type {\n",
              "        vertical-align: middle;\n",
              "    }\n",
              "\n",
              "    .dataframe tbody tr th {\n",
              "        vertical-align: top;\n",
              "    }\n",
              "\n",
              "    .dataframe thead tr th {\n",
              "        text-align: left;\n",
              "    }\n",
              "\n",
              "    .dataframe thead tr:last-of-type th {\n",
              "        text-align: right;\n",
              "    }\n",
              "</style>\n",
              "<table border=\"1\" class=\"dataframe\">\n",
              "  <thead>\n",
              "    <tr>\n",
              "      <th></th>\n",
              "      <th colspan=\"8\" halign=\"left\">AHT</th>\n",
              "      <th colspan=\"8\" halign=\"left\">Pages</th>\n",
              "      <th colspan=\"8\" halign=\"left\">Splits</th>\n",
              "    </tr>\n",
              "    <tr>\n",
              "      <th></th>\n",
              "      <th>count</th>\n",
              "      <th>mean</th>\n",
              "      <th>std</th>\n",
              "      <th>min</th>\n",
              "      <th>25%</th>\n",
              "      <th>50%</th>\n",
              "      <th>75%</th>\n",
              "      <th>max</th>\n",
              "      <th>count</th>\n",
              "      <th>mean</th>\n",
              "      <th>std</th>\n",
              "      <th>min</th>\n",
              "      <th>25%</th>\n",
              "      <th>50%</th>\n",
              "      <th>75%</th>\n",
              "      <th>max</th>\n",
              "      <th>count</th>\n",
              "      <th>mean</th>\n",
              "      <th>std</th>\n",
              "      <th>min</th>\n",
              "      <th>25%</th>\n",
              "      <th>50%</th>\n",
              "      <th>75%</th>\n",
              "      <th>max</th>\n",
              "    </tr>\n",
              "    <tr>\n",
              "      <th>MC</th>\n",
              "      <th></th>\n",
              "      <th></th>\n",
              "      <th></th>\n",
              "      <th></th>\n",
              "      <th></th>\n",
              "      <th></th>\n",
              "      <th></th>\n",
              "      <th></th>\n",
              "      <th></th>\n",
              "      <th></th>\n",
              "      <th></th>\n",
              "      <th></th>\n",
              "      <th></th>\n",
              "      <th></th>\n",
              "      <th></th>\n",
              "      <th></th>\n",
              "      <th></th>\n",
              "      <th></th>\n",
              "      <th></th>\n",
              "      <th></th>\n",
              "      <th></th>\n",
              "      <th></th>\n",
              "      <th></th>\n",
              "      <th></th>\n",
              "    </tr>\n",
              "  </thead>\n",
              "  <tbody>\n",
              "    <tr>\n",
              "      <th>GCM</th>\n",
              "      <td>849.0</td>\n",
              "      <td>24.7</td>\n",
              "      <td>43.7</td>\n",
              "      <td>0.0</td>\n",
              "      <td>3.6</td>\n",
              "      <td>10.2</td>\n",
              "      <td>25.8</td>\n",
              "      <td>382.2</td>\n",
              "      <td>849.0</td>\n",
              "      <td>9.0</td>\n",
              "      <td>27.7</td>\n",
              "      <td>1.0</td>\n",
              "      <td>1.0</td>\n",
              "      <td>2.0</td>\n",
              "      <td>5.0</td>\n",
              "      <td>349.0</td>\n",
              "      <td>849.0</td>\n",
              "      <td>19.9</td>\n",
              "      <td>16.1</td>\n",
              "      <td>1.0</td>\n",
              "      <td>7.0</td>\n",
              "      <td>15.0</td>\n",
              "      <td>35.0</td>\n",
              "      <td>51.0</td>\n",
              "    </tr>\n",
              "    <tr>\n",
              "      <th>GIM</th>\n",
              "      <td>183.0</td>\n",
              "      <td>41.5</td>\n",
              "      <td>60.6</td>\n",
              "      <td>0.0</td>\n",
              "      <td>5.4</td>\n",
              "      <td>16.2</td>\n",
              "      <td>45.3</td>\n",
              "      <td>306.6</td>\n",
              "      <td>183.0</td>\n",
              "      <td>6.2</td>\n",
              "      <td>8.9</td>\n",
              "      <td>1.0</td>\n",
              "      <td>1.0</td>\n",
              "      <td>3.0</td>\n",
              "      <td>6.0</td>\n",
              "      <td>50.0</td>\n",
              "      <td>183.0</td>\n",
              "      <td>12.5</td>\n",
              "      <td>6.4</td>\n",
              "      <td>1.0</td>\n",
              "      <td>8.0</td>\n",
              "      <td>12.0</td>\n",
              "      <td>17.0</td>\n",
              "      <td>23.0</td>\n",
              "    </tr>\n",
              "  </tbody>\n",
              "</table>\n",
              "</div>"
            ],
            "text/plain": [
              "       AHT                              ... Splits                            \n",
              "     count  mean   std  min  25%   50%  ...    std  min  25%   50%   75%   max\n",
              "MC                                      ...                                   \n",
              "GCM  849.0  24.7  43.7  0.0  3.6  10.2  ...   16.1  1.0  7.0  15.0  35.0  51.0\n",
              "GIM  183.0  41.5  60.6  0.0  5.4  16.2  ...    6.4  1.0  8.0  12.0  17.0  23.0\n",
              "\n",
              "[2 rows x 24 columns]"
            ]
          },
          "metadata": {
            "tags": []
          },
          "execution_count": 55
        }
      ]
    },
    {
      "cell_type": "code",
      "metadata": {
        "id": "l0s1oyUzk7oA",
        "colab": {
          "base_uri": "https://localhost:8080/"
        },
        "outputId": "65b42397-de38-48a7-be44-4f96e48d4523"
      },
      "source": [
        "#1. Does cycle time vary between Market Category significantly?\n",
        "import statsmodels.api as sm\n",
        "from   statsmodels.formula.api import ols\n",
        "mod = ols('AHT ~ MC', data = df).fit()\n",
        "aov_table = sm.stats.anova_lm(mod, typ=2)\n",
        "print(aov_table)\n",
        " \n"
      ],
      "execution_count": null,
      "outputs": [
        {
          "output_type": "stream",
          "text": [
            "                sum_sq      df          F    PR(>F)\n",
            "MC        4.249757e+04     1.0  19.154941  0.000013\n",
            "Residual  2.285181e+06  1030.0        NaN       NaN\n"
          ],
          "name": "stdout"
        }
      ]
    },
    {
      "cell_type": "markdown",
      "metadata": {
        "id": "jjE9LY2KRRwH"
      },
      "source": [
        "As the P value is above 0.05, we could conclude that market category does not impact AHT "
      ]
    },
    {
      "cell_type": "markdown",
      "metadata": {
        "id": "59EXtbDHV9EV"
      },
      "source": [
        "### **3.Does AHT vary by Work-Type significantly?**\n"
      ]
    },
    {
      "cell_type": "code",
      "metadata": {
        "id": "ab8dHeSPV9Ec",
        "colab": {
          "base_uri": "https://localhost:8080/",
          "height": 301
        },
        "outputId": "4ee62655-0373-4bd9-aefd-588559e3f8f4"
      },
      "source": [
        "#box plot by Type\n",
        "sns.boxplot(x=\"WorkType\", y=\"AHT\", data=df)"
      ],
      "execution_count": null,
      "outputs": [
        {
          "output_type": "execute_result",
          "data": {
            "text/plain": [
              "<matplotlib.axes._subplots.AxesSubplot at 0x7f537b896978>"
            ]
          },
          "metadata": {
            "tags": []
          },
          "execution_count": 61
        },
        {
          "output_type": "display_data",
          "data": {
            "image/png": "[encoded data removed]",
            "text/plain": [
              "<Figure size 432x288 with 1 Axes>"
            ]
          },
          "metadata": {
            "tags": [],
            "needs_background": "light"
          }
        }
      ]
    },
    {
      "cell_type": "code",
      "metadata": {
        "id": "NBaFHdryV9Et",
        "colab": {
          "base_uri": "https://localhost:8080/",
          "height": 197
        },
        "outputId": "7c591954-67dc-4f9b-ab34-e877b911d82f"
      },
      "source": [
        "df.groupby('WorkType').describe().round(1)"
      ],
      "execution_count": null,
      "outputs": [
        {
          "output_type": "execute_result",
          "data": {
            "text/html": [
              "<div>\n",
              "<style scoped>\n",
              "    .dataframe tbody tr th:only-of-type {\n",
              "        vertical-align: middle;\n",
              "    }\n",
              "\n",
              "    .dataframe tbody tr th {\n",
              "        vertical-align: top;\n",
              "    }\n",
              "\n",
              "    .dataframe thead tr th {\n",
              "        text-align: left;\n",
              "    }\n",
              "\n",
              "    .dataframe thead tr:last-of-type th {\n",
              "        text-align: right;\n",
              "    }\n",
              "</style>\n",
              "<table border=\"1\" class=\"dataframe\">\n",
              "  <thead>\n",
              "    <tr>\n",
              "      <th></th>\n",
              "      <th colspan=\"8\" halign=\"left\">AHT</th>\n",
              "      <th colspan=\"8\" halign=\"left\">Pages</th>\n",
              "      <th colspan=\"8\" halign=\"left\">Splits</th>\n",
              "    </tr>\n",
              "    <tr>\n",
              "      <th></th>\n",
              "      <th>count</th>\n",
              "      <th>mean</th>\n",
              "      <th>std</th>\n",
              "      <th>min</th>\n",
              "      <th>25%</th>\n",
              "      <th>50%</th>\n",
              "      <th>75%</th>\n",
              "      <th>max</th>\n",
              "      <th>count</th>\n",
              "      <th>mean</th>\n",
              "      <th>std</th>\n",
              "      <th>min</th>\n",
              "      <th>25%</th>\n",
              "      <th>50%</th>\n",
              "      <th>75%</th>\n",
              "      <th>max</th>\n",
              "      <th>count</th>\n",
              "      <th>mean</th>\n",
              "      <th>std</th>\n",
              "      <th>min</th>\n",
              "      <th>25%</th>\n",
              "      <th>50%</th>\n",
              "      <th>75%</th>\n",
              "      <th>max</th>\n",
              "    </tr>\n",
              "    <tr>\n",
              "      <th>WorkType</th>\n",
              "      <th></th>\n",
              "      <th></th>\n",
              "      <th></th>\n",
              "      <th></th>\n",
              "      <th></th>\n",
              "      <th></th>\n",
              "      <th></th>\n",
              "      <th></th>\n",
              "      <th></th>\n",
              "      <th></th>\n",
              "      <th></th>\n",
              "      <th></th>\n",
              "      <th></th>\n",
              "      <th></th>\n",
              "      <th></th>\n",
              "      <th></th>\n",
              "      <th></th>\n",
              "      <th></th>\n",
              "      <th></th>\n",
              "      <th></th>\n",
              "      <th></th>\n",
              "      <th></th>\n",
              "      <th></th>\n",
              "      <th></th>\n",
              "    </tr>\n",
              "  </thead>\n",
              "  <tbody>\n",
              "    <tr>\n",
              "      <th>Alts</th>\n",
              "      <td>612.0</td>\n",
              "      <td>25.4</td>\n",
              "      <td>41.1</td>\n",
              "      <td>0.0</td>\n",
              "      <td>4.2</td>\n",
              "      <td>11.7</td>\n",
              "      <td>28.8</td>\n",
              "      <td>306.6</td>\n",
              "      <td>612.0</td>\n",
              "      <td>7.9</td>\n",
              "      <td>28.3</td>\n",
              "      <td>1.0</td>\n",
              "      <td>1.0</td>\n",
              "      <td>2.0</td>\n",
              "      <td>5.0</td>\n",
              "      <td>349.0</td>\n",
              "      <td>612.0</td>\n",
              "      <td>22.2</td>\n",
              "      <td>17.0</td>\n",
              "      <td>1.0</td>\n",
              "      <td>8.0</td>\n",
              "      <td>18.0</td>\n",
              "      <td>40.0</td>\n",
              "      <td>51.0</td>\n",
              "    </tr>\n",
              "    <tr>\n",
              "      <th>Mix</th>\n",
              "      <td>363.0</td>\n",
              "      <td>33.8</td>\n",
              "      <td>58.9</td>\n",
              "      <td>0.0</td>\n",
              "      <td>3.6</td>\n",
              "      <td>11.4</td>\n",
              "      <td>30.6</td>\n",
              "      <td>382.2</td>\n",
              "      <td>363.0</td>\n",
              "      <td>9.4</td>\n",
              "      <td>20.2</td>\n",
              "      <td>1.0</td>\n",
              "      <td>1.0</td>\n",
              "      <td>2.0</td>\n",
              "      <td>6.0</td>\n",
              "      <td>143.0</td>\n",
              "      <td>363.0</td>\n",
              "      <td>14.3</td>\n",
              "      <td>10.1</td>\n",
              "      <td>1.0</td>\n",
              "      <td>7.0</td>\n",
              "      <td>12.0</td>\n",
              "      <td>16.0</td>\n",
              "      <td>38.0</td>\n",
              "    </tr>\n",
              "    <tr>\n",
              "      <th>New</th>\n",
              "      <td>57.0</td>\n",
              "      <td>13.1</td>\n",
              "      <td>15.0</td>\n",
              "      <td>0.0</td>\n",
              "      <td>3.6</td>\n",
              "      <td>8.4</td>\n",
              "      <td>16.8</td>\n",
              "      <td>89.4</td>\n",
              "      <td>57.0</td>\n",
              "      <td>8.6</td>\n",
              "      <td>22.7</td>\n",
              "      <td>1.0</td>\n",
              "      <td>1.0</td>\n",
              "      <td>2.0</td>\n",
              "      <td>5.0</td>\n",
              "      <td>161.0</td>\n",
              "      <td>57.0</td>\n",
              "      <td>7.2</td>\n",
              "      <td>5.0</td>\n",
              "      <td>1.0</td>\n",
              "      <td>2.0</td>\n",
              "      <td>8.0</td>\n",
              "      <td>10.0</td>\n",
              "      <td>14.0</td>\n",
              "    </tr>\n",
              "  </tbody>\n",
              "</table>\n",
              "</div>"
            ],
            "text/plain": [
              "            AHT                              ... Splits                            \n",
              "          count  mean   std  min  25%   50%  ...    std  min  25%   50%   75%   max\n",
              "WorkType                                     ...                                   \n",
              "Alts      612.0  25.4  41.1  0.0  4.2  11.7  ...   17.0  1.0  8.0  18.0  40.0  51.0\n",
              "Mix       363.0  33.8  58.9  0.0  3.6  11.4  ...   10.1  1.0  7.0  12.0  16.0  38.0\n",
              "New        57.0  13.1  15.0  0.0  3.6   8.4  ...    5.0  1.0  2.0   8.0  10.0  14.0\n",
              "\n",
              "[3 rows x 24 columns]"
            ]
          },
          "metadata": {
            "tags": []
          },
          "execution_count": 62
        }
      ]
    },
    {
      "cell_type": "code",
      "metadata": {
        "id": "2B463k43V9Ez",
        "colab": {
          "base_uri": "https://localhost:8080/"
        },
        "outputId": "eccf8cfa-e346-4b5d-c206-ec1c02f57854"
      },
      "source": [
        "#1. Does cycle time vary between Market Category significantly?\n",
        "import statsmodels.api as sm\n",
        "from   statsmodels.formula.api import ols\n",
        "mod = ols('AHT ~ WorkType', data = df).fit()\n",
        "aov_table = sm.stats.anova_lm(mod, typ=2)\n",
        "print(aov_table)\n",
        " \n"
      ],
      "execution_count": null,
      "outputs": [
        {
          "output_type": "stream",
          "text": [
            "                sum_sq      df         F    PR(>F)\n",
            "WorkType  2.882500e+04     2.0  6.451243  0.001643\n",
            "Residual  2.298853e+06  1029.0       NaN       NaN\n"
          ],
          "name": "stdout"
        }
      ]
    },
    {
      "cell_type": "markdown",
      "metadata": {
        "id": "2hWDB1YAV9E4"
      },
      "source": [
        "As the P value is below 0.05, we could conclude that type does impact AHT "
      ]
    },
    {
      "cell_type": "code",
      "metadata": {
        "id": "WKyRzeaLuqZ9",
        "colab": {
          "base_uri": "https://localhost:8080/",
          "height": 905
        },
        "outputId": "b5c7e654-814d-4506-9fde-a9c65e11e1cd"
      },
      "source": [
        "from statsmodels.stats.multicomp import pairwise_tukeyhsd\n",
        "tukeyType=pairwise_tukeyhsd(df['AHT'], df['WorkType'])\n",
        "print(tukeyType)\n",
        "results1=tukeyType\n",
        "results1.plot_simultaneous()"
      ],
      "execution_count": null,
      "outputs": [
        {
          "output_type": "stream",
          "text": [
            " Multiple Comparison of Means - Tukey HSD, FWER=0.05 \n",
            "=====================================================\n",
            "group1 group2 meandiff p-adj   lower    upper  reject\n",
            "-----------------------------------------------------\n",
            "  Alts    Mix   8.3629  0.021   1.0133 15.7124   True\n",
            "  Alts    New -12.3574 0.1427 -27.7209   3.006  False\n",
            "   Mix    New -20.7203 0.0061 -36.5263 -4.9143   True\n",
            "-----------------------------------------------------\n"
          ],
          "name": "stdout"
        },
        {
          "output_type": "execute_result",
          "data": {
            "image/png": "[encoded data removed]",
            "text/plain": [
              "<Figure size 720x432 with 1 Axes>"
            ]
          },
          "metadata": {
            "tags": []
          },
          "execution_count": 64
        },
        {
          "output_type": "display_data",
          "data": {
            "image/png": "[encoded data removed]",
            "text/plain": [
              "<Figure size 720x432 with 1 Axes>"
            ]
          },
          "metadata": {
            "tags": [],
            "needs_background": "light"
          }
        }
      ]
    },
    {
      "cell_type": "markdown",
      "metadata": {
        "id": "270DYXqIp8yB"
      },
      "source": [
        "### **4. Does cycle time vary based on the day the job is recieved?**\n"
      ]
    },
    {
      "cell_type": "code",
      "metadata": {
        "id": "RrXZNHoNqn40",
        "colab": {
          "base_uri": "https://localhost:8080/",
          "height": 301
        },
        "outputId": "47352242-2a89-4495-dc9e-ad6297bf374a"
      },
      "source": [
        "#box plot by weekday\n",
        "sns.boxplot(x=\"Day\", y=\"AHT\", data=df)"
      ],
      "execution_count": null,
      "outputs": [
        {
          "output_type": "execute_result",
          "data": {
            "text/plain": [
              "<matplotlib.axes._subplots.AxesSubplot at 0x7f537b7dcf98>"
            ]
          },
          "metadata": {
            "tags": []
          },
          "execution_count": 65
        },
        {
          "output_type": "display_data",
          "data": {
            "image/png": "[encoded data removed]",
            "text/plain": [
              "<Figure size 432x288 with 1 Axes>"
            ]
          },
          "metadata": {
            "tags": [],
            "needs_background": "light"
          }
        }
      ]
    },
    {
      "cell_type": "code",
      "metadata": {
        "id": "yx826SnNDona",
        "colab": {
          "base_uri": "https://localhost:8080/"
        },
        "outputId": "7479e87f-b63e-46f1-b29d-b0562b6d4531"
      },
      "source": [
        "daynmean=df.groupby('Day').describe().round(1)\n",
        "print(daynmean)"
      ],
      "execution_count": null,
      "outputs": [
        {
          "output_type": "stream",
          "text": [
            "       AHT                              ... Splits                            \n",
            "     count  mean   std  min  25%   50%  ...    std  min  25%   50%   75%   max\n",
            "Day                                     ...                                   \n",
            "5    282.0  46.6  71.9  0.0  4.2  15.9  ...   12.9  1.0  7.0  15.5  22.8  51.0\n",
            "6    402.0  24.5  37.3  0.0  4.2  11.4  ...   15.9  1.0  8.0  15.0  35.0  51.0\n",
            "7    348.0  16.1  21.8  0.0  3.6   8.4  ...   15.7  1.0  6.0  11.0  38.0  49.0\n",
            "\n",
            "[3 rows x 24 columns]\n"
          ],
          "name": "stdout"
        }
      ]
    },
    {
      "cell_type": "code",
      "metadata": {
        "id": "AaAUZbBorg2j",
        "colab": {
          "base_uri": "https://localhost:8080/"
        },
        "outputId": "c7a2e983-dfe9-4d2b-a3ee-b22de3d96042"
      },
      "source": [
        "#Does cycle time siginificanly differ between weekdays?\n",
        "import statsmodels.api as sm\n",
        "from   statsmodels.formula.api import ols\n",
        "mod = ols('AHT ~ Day', data = df).fit()\n",
        "aov_table = sm.stats.anova_lm(mod, typ=2)\n",
        "print(aov_table)\n",
        " "
      ],
      "execution_count": null,
      "outputs": [
        {
          "output_type": "stream",
          "text": [
            "                sum_sq      df          F        PR(>F)\n",
            "Day       1.514368e+05     2.0  35.802201  9.298965e-16\n",
            "Residual  2.176241e+06  1029.0        NaN           NaN\n"
          ],
          "name": "stdout"
        }
      ]
    },
    {
      "cell_type": "markdown",
      "metadata": {
        "id": "TLVhqbBWRd4E"
      },
      "source": [
        "As the P value is below 0.05, we could conclude that weekdays at which the job is recieved is a significant factor for cycle time"
      ]
    },
    {
      "cell_type": "code",
      "metadata": {
        "id": "n8Qsb6Zcrrks",
        "colab": {
          "base_uri": "https://localhost:8080/",
          "height": 905
        },
        "outputId": "2ec4fa53-2552-4f64-9e9f-897c1b92bb71"
      },
      "source": [
        "\n",
        "from statsmodels.stats.multicomp import pairwise_tukeyhsd\n",
        "tukeyweekday=pairwise_tukeyhsd(df['AHT'], df['Day'])\n",
        "print(tukeyweekday)\n",
        "results1=tukeyweekday\n",
        "results1.plot_simultaneous()\n",
        "\n"
      ],
      "execution_count": null,
      "outputs": [
        {
          "output_type": "stream",
          "text": [
            " Multiple Comparison of Means - Tukey HSD, FWER=0.05  \n",
            "======================================================\n",
            "group1 group2 meandiff p-adj   lower    upper   reject\n",
            "------------------------------------------------------\n",
            "     5      6 -22.0945  0.001  -30.479   -13.71   True\n",
            "     5      7  -30.472  0.001 -39.1206 -21.8235   True\n",
            "     6      7  -8.3775 0.0347 -16.2809  -0.4741   True\n",
            "------------------------------------------------------\n"
          ],
          "name": "stdout"
        },
        {
          "output_type": "execute_result",
          "data": {
            "image/png": "[encoded data removed]",
            "text/plain": [
              "<Figure size 720x432 with 1 Axes>"
            ]
          },
          "metadata": {
            "tags": []
          },
          "execution_count": 68
        },
        {
          "output_type": "display_data",
          "data": {
            "image/png": "[encoded data removed]",
            "text/plain": [
              "<Figure size 720x432 with 1 Axes>"
            ]
          },
          "metadata": {
            "tags": [],
            "needs_background": "light"
          }
        }
      ]
    },
    {
      "cell_type": "markdown",
      "metadata": {
        "id": "nsqtSAYMAH7I"
      },
      "source": [
        "### **5. Does cycle time vary based on the time the job is recieved?**\n"
      ]
    },
    {
      "cell_type": "code",
      "metadata": {
        "id": "TGOC-0NhAH7J",
        "colab": {
          "base_uri": "https://localhost:8080/",
          "height": 301
        },
        "outputId": "30aa1a60-82f2-4f76-863c-f15dcbf04175"
      },
      "source": [
        "#box plot by weekday\n",
        "sns.boxplot(x=\"Time\", y=\"AHT\", data=df)"
      ],
      "execution_count": null,
      "outputs": [
        {
          "output_type": "execute_result",
          "data": {
            "text/plain": [
              "<matplotlib.axes._subplots.AxesSubplot at 0x7f537af2e3c8>"
            ]
          },
          "metadata": {
            "tags": []
          },
          "execution_count": 80
        },
        {
          "output_type": "display_data",
          "data": {
            "image/png": "[encoded data removed]",
            "text/plain": [
              "<Figure size 432x288 with 1 Axes>"
            ]
          },
          "metadata": {
            "tags": [],
            "needs_background": "light"
          }
        }
      ]
    },
    {
      "cell_type": "code",
      "metadata": {
        "id": "UeOoTdx5AH7N",
        "colab": {
          "base_uri": "https://localhost:8080/"
        },
        "outputId": "f275ae5c-aa8a-4e6a-b558-20b392315eed"
      },
      "source": [
        "Timenmean=df.groupby('Time').describe().round(1)\n",
        "print(Timenmean)"
      ],
      "execution_count": null,
      "outputs": [
        {
          "output_type": "stream",
          "text": [
            "         AHT                               ... Splits                             \n",
            "       count  mean   std  min   25%   50%  ...    std  min   25%   50%   75%   max\n",
            "Time                                       ...                                    \n",
            ".1 AM   41.0  28.0  39.0  0.0   5.4  15.0  ...   13.9  1.0  14.0  17.0  33.0  51.0\n",
            ".1 PM   69.0  14.9  26.2  0.0   2.4   4.2  ...   13.4  1.0   7.0  11.0  19.0  49.0\n",
            ".10 AM  37.0  17.2  17.8  0.6   4.2  12.0  ...   11.8  1.0   3.0   7.0  15.0  46.0\n",
            ".10 PM  52.0  45.0  52.5  0.6  10.0  30.3  ...   17.7  2.0   8.0  14.0  38.0  49.0\n",
            ".11 AM  29.0  20.1  21.8  0.6   4.8   9.0  ...   15.7  1.0   4.0   8.0  11.0  49.0\n",
            ".11 PM  57.0  23.6  29.3  0.0   3.6   9.0  ...   14.5  1.0   8.0  13.0  35.0  51.0\n",
            ".12 AM  34.0  23.8  25.2  1.2   8.6  15.6  ...   14.1  1.0   8.8  13.5  17.0  51.0\n",
            ".12 PM  53.0  14.1  17.5  0.0   3.0   7.8  ...    7.9  1.0   4.0   8.0  15.0  40.0\n",
            ".2 AM   58.0  39.4  47.1  0.0   8.0  22.8  ...   14.7  1.0   9.0  12.0  20.0  51.0\n",
            ".2 PM   59.0  35.0  49.5  0.6   7.2  18.6  ...   12.7  1.0   6.0  14.0  19.0  49.0\n",
            ".3 AM   44.0  12.4  13.8  0.0   4.2   5.7  ...   13.3  1.0  12.0  16.0  20.0  51.0\n",
            ".3 PM   73.0  33.2  62.7  0.0   2.4   7.8  ...   16.8  1.0   7.0  13.0  40.0  51.0\n",
            ".4 AM   28.0  18.1  19.1  1.8   5.8  12.6  ...   12.2  1.0  12.0  18.0  20.0  51.0\n",
            ".4 PM   54.0  22.2  49.6  0.0   1.3   4.2  ...   16.2  1.0   7.2  17.0  32.0  51.0\n",
            ".5 AM   39.0  18.2  18.4  0.0   3.9  14.4  ...   18.2  1.0   5.0  18.0  43.0  51.0\n",
            ".5 PM   47.0  29.1  66.9  0.0   2.7  11.4  ...   15.0  2.0  10.0  17.0  35.0  51.0\n",
            ".6 AM   24.0  26.3  23.8  0.6   8.8  20.1  ...   17.4  1.0   9.0  20.0  46.0  46.0\n",
            ".6 PM   45.0  47.9  79.5  0.0   4.2  11.4  ...   14.2  1.0   6.0  12.0  33.0  51.0\n",
            ".7 AM   20.0  20.8  28.3  2.4   5.2   8.4  ...   19.7  2.0   6.0  15.5  46.0  51.0\n",
            ".7 PM   48.0  36.3  71.9  0.0   4.2   9.0  ...   17.3  1.0   9.0  17.0  40.0  51.0\n",
            ".8 AM   27.0  11.1  13.2  0.0   1.8   8.4  ...   18.0  3.0   5.5   9.0  16.0  51.0\n",
            ".8 PM   44.0  55.6  82.2  0.6   6.0  17.4  ...   13.2  1.0   8.0  15.0  33.0  49.0\n",
            ".9 AM   14.0  25.6  23.8  5.4  14.0  17.4  ...   15.3  5.0   6.2   7.5  15.0  49.0\n",
            ".9 PM   36.0  21.4  40.8  0.0   2.4   6.0  ...   12.7  1.0   7.0  14.0  23.0  49.0\n",
            "\n",
            "[24 rows x 40 columns]\n"
          ],
          "name": "stdout"
        }
      ]
    },
    {
      "cell_type": "code",
      "metadata": {
        "id": "vd0zxnBSAH7Q",
        "colab": {
          "base_uri": "https://localhost:8080/"
        },
        "outputId": "9cbd4145-f781-496e-eaa5-58965faf24c0"
      },
      "source": [
        "#Does cycle time siginificanly differ between weekdays?\n",
        "import statsmodels.api as sm\n",
        "from   statsmodels.formula.api import ols\n",
        "mod = ols('AHT ~ Time', data = df).fit()\n",
        "aov_table = sm.stats.anova_lm(mod, typ=2)\n",
        "print(aov_table)\n",
        " "
      ],
      "execution_count": null,
      "outputs": [
        {
          "output_type": "stream",
          "text": [
            "                sum_sq      df         F   PR(>F)\n",
            "Time      1.414649e+05    23.0  2.835888  0.00001\n",
            "Residual  2.186213e+06  1008.0       NaN      NaN\n"
          ],
          "name": "stdout"
        }
      ]
    },
    {
      "cell_type": "markdown",
      "metadata": {
        "id": "qx0ybXbjAH7S"
      },
      "source": [
        "As the P value is below 0.05, we could conclude that weekdays at which the job is recieved is a significant factor for cycle time"
      ]
    },
    {
      "cell_type": "code",
      "metadata": {
        "id": "ZmI2Gm3lAH7T",
        "colab": {
          "base_uri": "https://localhost:8080/",
          "height": 1000
        },
        "outputId": "37588903-b3e1-425b-d69b-bb10e4463379"
      },
      "source": [
        "\n",
        "from statsmodels.stats.multicomp import pairwise_tukeyhsd\n",
        "tukeyweekday=pairwise_tukeyhsd(df['AHT'], df['Time'])\n",
        "print(tukeyweekday)\n",
        "results1=tukeyweekday\n",
        "results1.plot_simultaneous()\n",
        "\n"
      ],
      "execution_count": null,
      "outputs": [
        {
          "output_type": "stream",
          "text": [
            " Multiple Comparison of Means - Tukey HSD, FWER=0.05 \n",
            "=====================================================\n",
            "group1 group2 meandiff p-adj   lower    upper  reject\n",
            "-----------------------------------------------------\n",
            " .1 AM  .1 PM  -13.018    0.9 -46.5154 20.4793  False\n",
            " .1 AM .10 AM -10.8091    0.9  -49.329 27.7108  False\n",
            " .1 AM .10 PM  17.0457    0.9 -18.4339 52.5253  False\n",
            " .1 AM .11 AM  -7.8969    0.9 -49.1151 33.3213  False\n",
            " .1 AM .11 PM   -4.408    0.9 -39.1947 30.3788  False\n",
            " .1 AM .12 AM  -4.2129    0.9  -43.616 35.1901  False\n",
            " .1 AM .12 PM -13.8376    0.9 -49.1693 21.4942  False\n",
            " .1 AM  .2 AM  11.4686    0.9 -23.1925 46.1297  False\n",
            " .1 AM  .2 PM   7.0477    0.9 -27.4915 41.5869  False\n",
            " .1 AM  .3 AM -15.5295    0.9 -52.4036 21.3446  False\n",
            " .1 AM  .3 PM   5.2725    0.9  -27.881  38.426  False\n",
            " .1 AM  .4 AM  -9.8587    0.9 -51.5058 31.7883  False\n",
            " .1 AM  .4 PM  -5.7992    0.9 -40.9879 29.3895  False\n",
            " .1 AM  .5 AM  -9.7505    0.9 -47.7476 28.2467  False\n",
            " .1 AM  .5 PM   1.1533    0.9 -35.1487 37.4553  False\n",
            " .1 AM  .6 AM  -1.6409    0.9 -45.3015 42.0197  False\n",
            " .1 AM  .6 PM  19.9408    0.9 -16.7352 56.6168  False\n",
            " .1 AM  .7 AM  -7.1459    0.9 -53.4787 39.1869  False\n",
            " .1 AM  .7 PM   8.2841    0.9 -27.8413 44.4096  False\n",
            " .1 AM  .8 AM -16.8325    0.9 -58.9353 25.2703  False\n",
            " .1 AM  .8 PM  27.6705 0.4895  -9.2036 64.5446  False\n",
            " .1 AM  .9 AM  -2.3373    0.9 -54.9216  50.247  False\n",
            " .1 AM  .9 PM  -6.5825    0.9 -45.3826 32.2176  False\n",
            " .1 PM .10 AM   2.2089    0.9 -32.4056 36.8234  False\n",
            " .1 PM .10 PM  30.0637 0.0769  -1.1322 61.2596  False\n",
            " .1 PM .11 AM   5.1211    0.9  -32.473 42.7153  False\n",
            " .1 PM .11 PM   8.6101    0.9 -21.7955 39.0157  False\n",
            " .1 PM .12 AM   8.8051    0.9 -26.7896 44.3998  False\n",
            " .1 PM .12 PM  -0.8195    0.9 -31.8471 30.2081  False\n",
            " .1 PM  .2 AM  24.4867 0.3285  -5.7751 54.7484  False\n",
            " .1 PM  .2 PM  20.0657 0.6941 -10.0563 50.1878  False\n",
            " .1 PM  .3 AM  -2.5115    0.9 -35.2847 30.2617  False\n",
            " .1 PM  .3 PM  18.2905 0.7545  -10.232 46.8131  False\n",
            " .1 PM  .4 AM   3.1593    0.9 -34.9045 41.2232  False\n",
            " .1 PM  .4 PM   7.2188    0.9 -23.6458 38.0835  False\n",
            " .1 PM  .5 AM   3.2676    0.9 -30.7643 37.2994  False\n",
            " .1 PM  .5 PM  14.1713    0.9 -17.9569 46.2995  False\n",
            " .1 PM  .6 AM  11.3772    0.9 -28.8799 51.6342  False\n",
            " .1 PM  .6 PM  32.9588 0.0431   0.4088 65.5089   True\n",
            " .1 PM  .7 AM   5.8722    0.9 -37.2684 49.0128  False\n",
            " .1 PM  .7 PM  21.3022 0.6916 -10.6263 53.2307  False\n",
            " .1 PM  .8 AM  -3.8145    0.9 -42.3765 34.7475  False\n",
            " .1 PM  .8 PM  40.6885 0.0016   7.9153 73.4617   True\n",
            " .1 PM  .9 AM  10.6807    0.9 -39.1137 60.4752  False\n",
            " .1 PM  .9 PM   6.4355    0.9 -28.4905 41.3616  False\n",
            ".10 AM .10 PM  27.8548 0.4584  -8.6814  64.391  False\n",
            ".10 AM .11 AM   2.9122    0.9 -39.2189 45.0433  False\n",
            ".10 AM .11 PM   6.4011    0.9 -29.4627 42.2649  False\n",
            ".10 AM .12 AM   6.5962    0.9 -33.7609 46.9532  False\n",
            ".10 AM .12 PM  -3.0285    0.9  -39.421 33.3641  False\n",
            ".10 AM  .2 AM  22.2777 0.7981 -13.4642 58.0196  False\n",
            ".10 AM  .2 PM  17.8568    0.9 -17.7669 53.4805  False\n",
            ".10 AM  .3 AM  -4.7204    0.9 -42.6122 33.1715  False\n",
            ".10 AM  .3 PM  16.0816    0.9 -18.2003 50.3635  False\n",
            ".10 AM  .4 AM   0.9504    0.9 -41.6004 43.5011  False\n",
            ".10 AM  .4 PM   5.0099    0.9 -31.2439 41.2637  False\n",
            ".10 AM  .5 AM   1.0586    0.9  -37.927 40.0442  False\n",
            ".10 AM  .5 PM  11.9624    0.9  -25.373 49.2978  False\n",
            ".10 AM  .6 AM   9.1682    0.9 -35.3552 53.6917  False\n",
            ".10 AM  .6 PM  30.7499 0.3129  -6.9491  68.449  False\n",
            ".10 AM  .7 AM   3.6632    0.9 -43.4835   50.81  False\n",
            ".10 AM  .7 PM  19.0932    0.9 -18.0704 56.2569  False\n",
            ".10 AM  .8 AM  -6.0234    0.9 -49.0204 36.9735  False\n",
            ".10 AM  .8 PM  38.4796 0.0415   0.5878 76.3715   True\n",
            ".10 AM  .9 AM   8.4718    0.9 -44.8311 61.7747  False\n",
            ".10 AM  .9 PM   4.2266    0.9  -35.542 43.9951  False\n",
            ".10 PM .11 AM -24.9426 0.7733 -64.3132 14.4281  False\n",
            ".10 PM .11 PM -21.4536 0.7125 -54.0302 11.1229  False\n",
            ".10 PM .12 AM -21.2586    0.9 -58.7247 16.2075  False\n",
            ".10 PM .12 PM -30.8832 0.1087  -64.041  2.2746  False\n",
            ".10 PM  .2 AM  -5.5771    0.9 -38.0193 26.8652  False\n",
            ".10 PM  .2 PM   -9.998    0.9   -42.31 22.3141  False\n",
            ".10 PM  .3 AM -32.5752 0.1032 -67.3719  2.2215  False\n",
            ".10 PM  .3 PM -11.7732    0.9 -42.5996 19.0532  False\n",
            ".10 PM  .4 AM -26.9044 0.6711 -66.7238  12.915  False\n",
            ".10 PM  .4 PM -22.8449  0.631 -55.8503 10.1605  False\n",
            ".10 PM  .5 AM -26.7962 0.5037 -62.7808  9.1885  False\n",
            ".10 PM  .5 PM -15.8924    0.9 -50.0823 18.2975  False\n",
            ".10 PM  .6 AM -18.6865    0.9 -60.6074 23.2343  False\n",
            ".10 PM  .6 PM   2.8951    0.9 -31.6915 37.4818  False\n",
            ".10 PM  .7 AM -24.1915    0.9 -68.8887 20.5056  False\n",
            ".10 PM  .7 PM  -8.7615    0.9 -42.7638 25.2408  False\n",
            ".10 PM  .8 AM -33.8782 0.2556 -74.1741  6.4177  False\n",
            ".10 PM  .8 PM  10.6248    0.9 -24.1719 45.4215  False\n",
            ".10 PM  .9 AM  -19.383    0.9 -70.5319  31.766  False\n",
            ".10 PM  .9 PM -23.6282 0.7539 -60.4597 13.2033  False\n",
            ".11 AM .11 PM   3.4889    0.9 -35.2585 42.2364  False\n",
            ".11 AM .12 AM    3.684    0.9 -39.2561  46.624  False\n",
            ".11 AM .12 PM  -5.9407    0.9 -45.1781 33.2968  False\n",
            ".11 AM  .2 AM  19.3655    0.9 -19.2691 58.0002  False\n",
            ".11 AM  .2 PM  14.9446    0.9 -23.5808   53.47  False\n",
            ".11 AM  .3 AM  -7.6326    0.9 -48.2645 32.9993  False\n",
            ".11 AM  .3 PM  13.1694    0.9 -24.1187 50.4575  False\n",
            ".11 AM  .4 AM  -1.9618    0.9 -46.9698 43.0462  False\n",
            ".11 AM  .4 PM   2.0977    0.9  -37.011 41.2064  False\n",
            ".11 AM  .5 AM  -1.8536    0.9 -43.5073 39.8001  False\n",
            ".11 AM  .5 PM   9.0502    0.9 -31.0632 49.1636  False\n",
            ".11 AM  .6 AM    6.256    0.9 -40.6214 53.1335  False\n",
            ".11 AM  .6 PM  27.8377 0.6407 -12.6144 68.2898  False\n",
            ".11 AM  .7 AM    0.751    0.9 -48.6248 50.1269  False\n",
            ".11 AM  .7 PM   16.181    0.9 -23.7726 56.1347  False\n",
            ".11 AM  .8 AM  -8.9356    0.9 -54.3657 36.4945  False\n",
            ".11 AM  .8 PM  35.5674 0.1883  -5.0645 76.1993  False\n",
            ".11 AM  .9 AM   5.5596    0.9 -49.7247 60.8439  False\n",
            ".11 AM  .9 PM   1.3144    0.9 -41.0731 43.7018  False\n",
            ".11 PM .12 AM    0.195    0.9 -36.6157 37.0058  False\n",
            ".11 PM .12 PM  -9.4296    0.9  -41.845 22.9858  False\n",
            ".11 PM  .2 AM  15.8766    0.9 -15.8065 47.5597  False\n",
            ".11 PM  .2 PM  11.4557    0.9 -20.0941 43.0054  False\n",
            ".11 PM  .3 AM -11.1215    0.9 -45.2116 22.9685  False\n",
            ".11 PM  .3 PM   9.6805    0.9 -20.3459 39.7069  False\n",
            ".11 PM  .4 AM  -5.4508    0.9 -44.6541 33.7526  False\n",
            ".11 PM  .4 PM  -1.3912    0.9 -33.6507 30.8683  False\n",
            ".11 PM  .5 AM  -5.3425    0.9 -40.6443 29.9593  False\n",
            ".11 PM  .5 PM   5.5613    0.9 -27.9091 39.0317  False\n",
            ".11 PM  .6 AM   2.7671    0.9  -38.569 44.1033  False\n",
            ".11 PM  .6 PM  24.3488 0.5665  -9.5268 58.2244  False\n",
            ".11 PM  .7 AM  -2.7379    0.9 -46.8872 41.4114  False\n",
            ".11 PM  .7 PM  12.6921    0.9 -20.5867 45.9709  False\n",
            ".11 PM  .8 AM -12.4246    0.9 -52.1118 27.2627  False\n",
            ".11 PM  .8 PM  32.0785 0.0977  -2.0116 66.1685  False\n",
            ".11 PM  .9 AM   2.0707    0.9 -48.6002 52.7415  False\n",
            ".11 PM  .9 PM  -2.1746    0.9 -38.3391   33.99  False\n",
            ".12 AM .12 PM  -9.6246    0.9 -46.9508 27.7015  False\n",
            ".12 AM  .2 AM  15.6815    0.9 -21.0104 52.3735  False\n",
            ".12 AM  .2 PM  11.2606    0.9 -25.3163 47.8375  False\n",
            ".12 AM  .3 AM -11.3166    0.9 -50.1059 27.4727  False\n",
            ".12 AM  .3 PM   9.4854    0.9 -25.7859 44.7567  False\n",
            ".12 AM  .4 AM  -5.6458    0.9 -48.9977 37.7061  False\n",
            ".12 AM  .4 PM  -1.5863    0.9 -38.7771 35.6045  False\n",
            ".12 AM  .5 AM  -5.5376    0.9  -45.396 34.3209  False\n",
            ".12 AM  .5 PM   5.3662    0.9 -32.8797 43.6121  False\n",
            ".12 AM  .6 AM   2.5721    0.9 -42.7176 47.8618  False\n",
            ".12 AM  .6 PM  24.1537 0.7922 -14.4473 62.7547  False\n",
            ".12 AM  .7 AM  -2.9329    0.9  -50.804 44.9381  False\n",
            ".12 AM  .7 PM  12.4971    0.9 -25.5812 50.5753  False\n",
            ".12 AM  .8 AM -12.6196    0.9 -56.4095 31.1703  False\n",
            ".12 AM  .8 PM  31.8834 0.2981  -6.9059 70.6727  False\n",
            ".12 AM  .9 AM   1.8756    0.9 -52.0689 55.8202  False\n",
            ".12 AM  .9 PM  -2.3696    0.9 -42.9942  38.255  False\n",
            ".12 PM  .2 AM  25.3062 0.3982  -6.9743 57.5867  False\n",
            ".12 PM  .2 PM  20.8853 0.7342 -11.2643 53.0349  False\n",
            ".12 PM  .3 AM  -1.6919    0.9 -36.3379  32.954  False\n",
            ".12 PM  .3 PM  19.1101 0.7979  -11.546 49.7661  False\n",
            ".12 PM  .4 AM   3.9788    0.9 -35.7089 43.6666  False\n",
            ".12 PM  .4 PM   8.0384    0.9  -24.808 40.8848  False\n",
            ".12 PM  .5 AM   4.0871    0.9 -31.7518 39.9259  False\n",
            ".12 PM  .5 PM  14.9908    0.9 -19.0456 49.0273  False\n",
            ".12 PM  .6 AM  12.1967    0.9 -29.5991 53.9925  False\n",
            ".12 PM  .6 PM  33.7784  0.063  -0.6566 68.2133  False\n",
            ".12 PM  .7 AM   6.6917    0.9 -37.8882 51.2716  False\n",
            ".12 PM  .7 PM  22.1217 0.7247 -11.7263 55.9697  False\n",
            ".12 PM  .8 AM   -2.995    0.9 -43.1607 37.1708  False\n",
            ".12 PM  .8 PM  41.5081 0.0032   6.8621  76.154   True\n",
            ".12 PM  .9 AM  11.5003    0.9 -39.5462 62.5468  False\n",
            ".12 PM  .9 PM    7.255    0.9  -29.434 43.9441  False\n",
            " .2 AM  .2 PM  -4.4209    0.9  -35.832 26.9902  False\n",
            " .2 AM  .3 AM -26.9981 0.3671 -60.9599  6.9636  False\n",
            " .2 AM  .3 PM  -6.1961    0.9 -36.0768 23.6846  False\n",
            " .2 AM  .4 AM -21.3273    0.9 -60.4192 17.7646  False\n",
            " .2 AM  .4 PM -17.2678    0.9 -49.3917 14.8561  False\n",
            " .2 AM  .5 AM -21.2191 0.8469  -56.397 13.9588  False\n",
            " .2 AM  .5 PM -10.3153    0.9 -43.6551 23.0244  False\n",
            " .2 AM  .6 AM -13.1095    0.9 -54.3399 28.1209  False\n",
            " .2 AM  .6 PM   8.4722    0.9 -25.2743 42.2187  False\n",
            " .2 AM  .7 AM -18.6145    0.9 -62.6648 25.4358  False\n",
            " .2 AM  .7 PM  -3.1845    0.9 -36.3318 29.9629  False\n",
            " .2 AM  .8 AM -28.3011 0.5754 -67.8783  11.276  False\n",
            " .2 AM  .8 PM  16.2019    0.9 -17.7599 50.1636  False\n",
            " .2 AM  .9 AM -13.8059    0.9 -64.3906 36.7787  False\n",
            " .2 AM  .9 PM -18.0511    0.9 -54.0948 17.9925  False\n",
            " .2 PM  .3 AM -22.5772 0.6915 -56.4146 11.2602  False\n",
            " .2 PM  .3 PM  -1.7752    0.9 -31.5145 27.9641  False\n",
            " .2 PM  .4 AM -16.9064    0.9 -55.8903 22.0775  False\n",
            " .2 PM  .4 PM -12.8469    0.9 -44.8393 19.1455  False\n",
            " .2 PM  .5 AM -16.7982    0.9  -51.856 18.2597  False\n",
            " .2 PM  .5 PM  -5.8944    0.9 -39.1074 27.3186  False\n",
            " .2 PM  .6 AM  -8.6886    0.9 -49.8166 32.4395  False\n",
            " .2 PM  .6 PM  12.8931    0.9 -20.7282 46.5144  False\n",
            " .2 PM  .7 AM -14.1936    0.9  -58.148 29.7609  False\n",
            " .2 PM  .7 PM   1.2364    0.9 -31.7835 34.2563  False\n",
            " .2 PM  .8 AM -23.8802 0.8425 -63.3507 15.5902  False\n",
            " .2 PM  .8 PM  20.6228 0.8316 -13.2146 54.4602  False\n",
            " .2 PM  .9 AM   -9.385    0.9 -59.8862 41.1162  False\n",
            " .2 PM  .9 PM -13.6302    0.9 -49.5567 22.2963  False\n",
            " .3 AM  .3 PM   20.802 0.7537 -11.6197 53.2237  False\n",
            " .3 AM  .4 AM   5.6708    0.9 -35.3961 46.7376  False\n",
            " .3 AM  .4 PM   9.7303    0.9 -24.7698 44.2304  False\n",
            " .3 AM  .5 AM    5.779    0.9 -31.5813 43.1394  False\n",
            " .3 AM  .5 PM  16.6828    0.9 -18.9521 52.3177  False\n",
            " .3 AM  .6 AM  13.8886    0.9 -29.2189 56.9962  False\n",
            " .3 AM  .6 PM  35.4703 0.0601  -0.5455 71.4861  False\n",
            " .3 AM  .7 AM   8.3836    0.9 -37.4284 54.1956  False\n",
            " .3 AM  .7 PM  23.8136 0.6808 -11.6414 59.2686  False\n",
            " .3 AM  .8 AM   -1.303    0.9  -42.832  40.226  False\n",
            " .3 AM  .8 PM     43.2 0.0035   6.9824 79.4176   True\n",
            " .3 AM  .9 AM  13.1922    0.9 -38.9338 65.3182  False\n",
            " .3 AM  .9 PM    8.947    0.9 -29.2297 47.1236  False\n",
            " .3 PM  .4 AM -15.1312    0.9 -52.8928 22.6304  False\n",
            " .3 PM  .4 PM -11.0717    0.9 -41.5629 19.4195  False\n",
            " .3 PM  .5 AM  -15.023    0.9 -48.7164 18.6705  False\n",
            " .3 PM  .5 PM  -4.1192    0.9 -35.8887 27.6503  False\n",
            " .3 PM  .6 AM  -6.9134    0.9 -46.8848  33.058  False\n",
            " .3 PM  .6 PM  14.6683    0.9 -17.5278 46.8645  False\n",
            " .3 PM  .7 AM -12.4184    0.9 -55.2925 30.4558  False\n",
            " .3 PM  .7 PM   3.0116    0.9 -28.5559 34.5792  False\n",
            " .3 PM  .8 AM  -22.105    0.9 -60.3687 16.1587  False\n",
            " .3 PM  .8 PM   22.398 0.6342 -10.0237 54.8197  False\n",
            " .3 PM  .9 AM  -7.6098    0.9 -57.1736  41.954  False\n",
            " .3 PM  .9 PM  -11.855    0.9 -46.4514 22.7414  False\n",
            " .4 AM  .4 PM   4.0595    0.9  -35.501   43.62  False\n",
            " .4 AM  .5 AM   0.1082    0.9 -41.9699 42.1864  False\n",
            " .4 AM  .5 PM   11.012    0.9 -29.5419  51.566  False\n",
            " .4 AM  .6 AM   8.2179    0.9 -39.0371 55.4728  False\n",
            " .4 AM  .6 PM  29.7995 0.5421 -11.0895 70.6885  False\n",
            " .4 AM  .7 AM   2.7129    0.9 -47.0216 52.4473  False\n",
            " .4 AM  .7 PM  18.1429    0.9 -22.2531 58.5388  False\n",
            " .4 AM  .8 AM  -6.9738    0.9 -52.7934 38.8458  False\n",
            " .4 AM  .8 PM  37.5292 0.1291  -3.5376 78.5961  False\n",
            " .4 AM  .9 AM   7.5214    0.9 -48.0834 63.1262  False\n",
            " .4 AM  .9 PM   3.2762    0.9 -39.5284 46.0808  False\n",
            " .4 PM  .5 AM  -3.9513    0.9 -39.6492 31.7466  False\n",
            " .4 PM  .5 PM   6.9525    0.9 -26.9355 40.8404  False\n",
            " .4 PM  .6 AM   4.1583    0.9 -37.5166 45.8333  False\n",
            " .4 PM  .6 PM    25.74 0.4888  -8.5482 60.0282  False\n",
            " .4 PM  .7 AM  -1.3467    0.9 -45.8133   43.12  False\n",
            " .4 PM  .7 PM  14.0833    0.9 -19.6154  47.782  False\n",
            " .4 PM  .8 AM -11.0333    0.9 -51.0734 29.0067  False\n",
            " .4 PM  .8 PM  33.4697 0.0715  -1.0304 67.9698  False\n",
            " .4 PM  .9 AM   3.4619    0.9 -47.4857 54.4095  False\n",
            " .4 PM  .9 PM  -0.7833    0.9 -37.3347  35.768  False\n",
            " .5 AM  .5 PM  10.9038    0.9 -25.8921 47.6996  False\n",
            " .5 AM  .6 AM   8.1096    0.9 -35.9624 52.1816  False\n",
            " .5 AM  .6 PM  29.6913 0.3561  -7.4735 66.8561  False\n",
            " .5 AM  .7 AM   2.6046    0.9 -44.1161 49.3253  False\n",
            " .5 AM  .7 PM  18.0346    0.9  -18.587 54.6562  False\n",
            " .5 AM  .8 AM  -7.0821    0.9 -49.6114 35.4473  False\n",
            " .5 AM  .8 PM   37.421 0.0491   0.0606 74.7813   True\n",
            " .5 AM  .9 AM   7.4132    0.9 -45.5132 60.3396  False\n",
            " .5 AM  .9 PM   3.1679    0.9 -36.0945 42.4304  False\n",
            " .5 PM  .6 AM  -2.7941    0.9 -45.4133  39.825  False\n",
            " .5 PM  .6 PM  18.7875    0.9 -16.6423 54.2174  False\n",
            " .5 PM  .7 AM  -8.2991    0.9 -53.6519 37.0536  False\n",
            " .5 PM  .7 PM   7.1309    0.9 -27.7288 41.9905  False\n",
            " .5 PM  .8 AM -17.9858    0.9 -59.0077 23.0361  False\n",
            " .5 PM  .8 PM  26.5172 0.5049  -9.1177 62.1521  False\n",
            " .5 PM  .9 AM  -3.4906    0.9 -55.2134 48.2323  False\n",
            " .5 PM  .9 PM  -7.7358    0.9 -45.3602 29.8886  False\n",
            " .6 AM  .6 PM  21.5817    0.9 -21.3565 64.5198  False\n",
            " .6 AM  .7 AM   -5.505    0.9 -56.9373 45.9273  False\n",
            " .6 AM  .7 PM    9.925    0.9 -32.5439 52.3939  False\n",
            " .6 AM  .8 AM -15.1917    0.9 -62.8488 32.4655  False\n",
            " .6 AM  .8 PM  29.3114 0.6606 -13.7962 72.4189  False\n",
            " .6 AM  .9 AM  -0.6964    0.9 -57.8249 56.4321  False\n",
            " .6 AM  .9 PM  -4.9417    0.9 -49.7078 39.8244  False\n",
            " .6 PM  .7 AM -27.0867 0.8708 -72.7393  18.566  False\n",
            " .6 PM  .7 PM -11.6567    0.9 -46.9055 23.5922  False\n",
            " .6 PM  .8 AM -36.7733 0.1659 -78.1265  4.5798  False\n",
            " .6 PM  .8 PM   7.7297    0.9 -28.2861 43.7455  False\n",
            " .6 PM  .9 AM -22.2781    0.9 -74.2641 29.7079  False\n",
            " .6 PM  .9 PM -26.5233 0.6162 -64.5086  11.462  False\n",
            " .7 AM  .7 PM    15.43    0.9 -29.7815 60.6415  False\n",
            " .7 AM  .8 AM  -9.6867    0.9 -59.8034   40.43  False\n",
            " .7 AM  .8 PM  34.8164 0.4648 -10.9956 80.6284  False\n",
            " .7 AM  .9 AM   4.8086    0.9 -54.3872 64.0044  False\n",
            " .7 AM  .9 PM   0.5633    0.9 -46.8127 47.9393  False\n",
            " .7 PM  .8 AM -25.1167 0.8192 -65.9823  15.749  False\n",
            " .7 PM  .8 PM  19.3864    0.9 -16.0686 54.8414  False\n",
            " .7 PM  .9 AM -10.6214    0.9 -62.2205 40.9776  False\n",
            " .7 PM  .9 PM -14.8667    0.9 -52.3207 22.5873  False\n",
            " .8 AM  .8 PM   44.503 0.0202    2.974  86.032   True\n",
            " .8 AM  .9 AM  14.4952    0.9 -41.4517 70.4422  False\n",
            " .8 AM  .9 PM    10.25    0.9 -32.9982 53.4982  False\n",
            " .8 PM  .9 AM -30.0078    0.9 -82.1338 22.1182  False\n",
            " .8 PM  .9 PM  -34.253 0.1533 -72.4297  3.9236  False\n",
            " .9 AM  .9 PM  -4.2452    0.9  -57.751 49.2605  False\n",
            "-----------------------------------------------------\n"
          ],
          "name": "stdout"
        },
        {
          "output_type": "execute_result",
          "data": {
            "image/png": "[encoded data removed]",
            "text/plain": [
              "<Figure size 720x432 with 1 Axes>"
            ]
          },
          "metadata": {
            "tags": []
          },
          "execution_count": 83
        },
        {
          "output_type": "display_data",
          "data": {
            "image/png": "[encoded data removed]",
            "text/plain": [
              "<Figure size 720x432 with 1 Axes>"
            ]
          },
          "metadata": {
            "tags": [],
            "needs_background": "light"
          }
        }
      ]
    },
    {
      "cell_type": "markdown",
      "metadata": {
        "id": "vMRlEvYxELv3"
      },
      "source": [
        "### **6. Does cycle time vary based on page count (page size of three?**\n"
      ]
    },
    {
      "cell_type": "code",
      "metadata": {
        "id": "1u2dqqFQELv5",
        "colab": {
          "base_uri": "https://localhost:8080/",
          "height": 301
        },
        "outputId": "b98783e9-9c4e-4f0d-fbea-8e79299e1657"
      },
      "source": [
        "#box plot by weekday\n",
        "sns.boxplot(x=\"Pagecount\", y=\"AHT\", data=df)"
      ],
      "execution_count": null,
      "outputs": [
        {
          "output_type": "execute_result",
          "data": {
            "text/plain": [
              "<matplotlib.axes._subplots.AxesSubplot at 0x7f537aa95978>"
            ]
          },
          "metadata": {
            "tags": []
          },
          "execution_count": 85
        },
        {
          "output_type": "display_data",
          "data": {
            "image/png": "[encoded data removed]",
            "text/plain": [
              "<Figure size 432x288 with 1 Axes>"
            ]
          },
          "metadata": {
            "tags": [],
            "needs_background": "light"
          }
        }
      ]
    },
    {
      "cell_type": "code",
      "metadata": {
        "id": "Zd3ZMuE9ELv9",
        "colab": {
          "base_uri": "https://localhost:8080/"
        },
        "outputId": "b9fbe1a7-50a4-453e-a28d-d7768de3be28"
      },
      "source": [
        "Timenmean=df.groupby('Pagecount').describe().round(1)\n",
        "print(Timenmean)"
      ],
      "execution_count": null,
      "outputs": [
        {
          "output_type": "stream",
          "text": [
            "                        AHT                        ... Splits                    \n",
            "                      count  mean   std  min  25%  ...    min  25%  50%  75%  max\n",
            "Pagecount                                          ...                           \n",
            "Equal or More Than 3  472.0  12.5  16.2  0.0  3.0  ...    1.0  1.0  1.0  3.0  5.0\n",
            "Less than 3           560.0  40.5  59.9  0.0  5.8  ...    1.0  1.0  1.0  3.0  5.0\n",
            "\n",
            "[2 rows x 40 columns]\n"
          ],
          "name": "stdout"
        }
      ]
    },
    {
      "cell_type": "code",
      "metadata": {
        "id": "j6RL-xWqELwA",
        "colab": {
          "base_uri": "https://localhost:8080/"
        },
        "outputId": "8c5e9fea-8da4-42b5-fc74-6fb46cfc0c69"
      },
      "source": [
        "#Does cycle time siginificanly differ between weekdays?\n",
        "import statsmodels.api as sm\n",
        "from   statsmodels.formula.api import ols\n",
        "mod = ols('AHT ~ Pagecount', data = df).fit()\n",
        "aov_table = sm.stats.anova_lm(mod, typ=2)\n",
        "print(aov_table)\n",
        " "
      ],
      "execution_count": null,
      "outputs": [
        {
          "output_type": "stream",
          "text": [
            "                 sum_sq      df          F        PR(>F)\n",
            "Pagecount  2.007409e+05     1.0  97.211671  5.643644e-22\n",
            "Residual   2.126937e+06  1030.0        NaN           NaN\n"
          ],
          "name": "stdout"
        }
      ]
    },
    {
      "cell_type": "markdown",
      "metadata": {
        "id": "TjEqTH7yvFu3"
      },
      "source": [
        "### **7. Is there a relationship between AHT and page count?**"
      ]
    },
    {
      "cell_type": "code",
      "metadata": {
        "id": "7nagLZC1vFaN",
        "colab": {
          "base_uri": "https://localhost:8080/",
          "height": 514
        },
        "outputId": "19297fe8-b8cd-422b-b370-efea26152e0c"
      },
      "source": [
        "#AHT and page count\n",
        "sns.jointplot(df['AHT'], df['Pages'])\n",
        "\n"
      ],
      "execution_count": null,
      "outputs": [
        {
          "output_type": "stream",
          "text": [
            "/usr/local/lib/python3.6/dist-packages/seaborn/_decorators.py:43: FutureWarning: Pass the following variables as keyword args: x, y. From version 0.12, the only valid positional argument will be `data`, and passing other arguments without an explicit keyword will result in an error or misinterpretation.\n",
            "  FutureWarning\n"
          ],
          "name": "stderr"
        },
        {
          "output_type": "execute_result",
          "data": {
            "text/plain": [
              "<seaborn.axisgrid.JointGrid at 0x7ff6eef2acc0>"
            ]
          },
          "metadata": {
            "tags": []
          },
          "execution_count": 53
        },
        {
          "output_type": "display_data",
          "data": {
            "image/png": "[encoded data removed]",
            "text/plain": [
              "<Figure size 432x432 with 3 Axes>"
            ]
          },
          "metadata": {
            "tags": [],
            "needs_background": "light"
          }
        }
      ]
    },
    {
      "cell_type": "code",
      "metadata": {
        "id": "tjoXdXb3vYna",
        "colab": {
          "base_uri": "https://localhost:8080/",
          "height": 107
        },
        "outputId": "96ee460c-dfb0-4b9a-c0f8-9228762f6ea6"
      },
      "source": [
        "df[['AHT','Pages']].corr()"
      ],
      "execution_count": null,
      "outputs": [
        {
          "output_type": "execute_result",
          "data": {
            "text/html": [
              "<div>\n",
              "<style scoped>\n",
              "    .dataframe tbody tr th:only-of-type {\n",
              "        vertical-align: middle;\n",
              "    }\n",
              "\n",
              "    .dataframe tbody tr th {\n",
              "        vertical-align: top;\n",
              "    }\n",
              "\n",
              "    .dataframe thead th {\n",
              "        text-align: right;\n",
              "    }\n",
              "</style>\n",
              "<table border=\"1\" class=\"dataframe\">\n",
              "  <thead>\n",
              "    <tr style=\"text-align: right;\">\n",
              "      <th></th>\n",
              "      <th>AHT</th>\n",
              "      <th>Pages</th>\n",
              "    </tr>\n",
              "  </thead>\n",
              "  <tbody>\n",
              "    <tr>\n",
              "      <th>AHT</th>\n",
              "      <td>1.000000</td>\n",
              "      <td>-0.143037</td>\n",
              "    </tr>\n",
              "    <tr>\n",
              "      <th>Pages</th>\n",
              "      <td>-0.143037</td>\n",
              "      <td>1.000000</td>\n",
              "    </tr>\n",
              "  </tbody>\n",
              "</table>\n",
              "</div>"
            ],
            "text/plain": [
              "            AHT     Pages\n",
              "AHT    1.000000 -0.143037\n",
              "Pages -0.143037  1.000000"
            ]
          },
          "metadata": {
            "tags": []
          },
          "execution_count": 54
        }
      ]
    },
    {
      "cell_type": "markdown",
      "metadata": {
        "id": "axP4aAehTQd2"
      },
      "source": [
        "Cycle number does not impact cycle time"
      ]
    },
    {
      "cell_type": "markdown",
      "metadata": {
        "id": "efXrmVuwhWsN"
      },
      "source": [
        "### **8. Is there a relationship between AHT and no of splits?**"
      ]
    },
    {
      "cell_type": "code",
      "metadata": {
        "id": "QNVSlUSIhWsf",
        "colab": {
          "base_uri": "https://localhost:8080/",
          "height": 514
        },
        "outputId": "a9638060-b582-4654-930c-a7c105484ed9"
      },
      "source": [
        "#AHT and page count\n",
        "sns.jointplot(df['AHT'], df['Splits'])\n",
        "\n"
      ],
      "execution_count": null,
      "outputs": [
        {
          "output_type": "stream",
          "text": [
            "/usr/local/lib/python3.6/dist-packages/seaborn/_decorators.py:43: FutureWarning: Pass the following variables as keyword args: x, y. From version 0.12, the only valid positional argument will be `data`, and passing other arguments without an explicit keyword will result in an error or misinterpretation.\n",
            "  FutureWarning\n"
          ],
          "name": "stderr"
        },
        {
          "output_type": "execute_result",
          "data": {
            "text/plain": [
              "<seaborn.axisgrid.JointGrid at 0x7f537aaba390>"
            ]
          },
          "metadata": {
            "tags": []
          },
          "execution_count": 97
        },
        {
          "output_type": "display_data",
          "data": {
            "image/png": "[encoded data removed]",
            "text/plain": [
              "<Figure size 432x432 with 3 Axes>"
            ]
          },
          "metadata": {
            "tags": [],
            "needs_background": "light"
          }
        }
      ]
    },
    {
      "cell_type": "code",
      "metadata": {
        "id": "HvyDAiz1hWso",
        "colab": {
          "base_uri": "https://localhost:8080/",
          "height": 107
        },
        "outputId": "3c5ced93-22a4-49aa-81f4-4528fb3624a9"
      },
      "source": [
        "df[['AHT','Splits']].corr()"
      ],
      "execution_count": null,
      "outputs": [
        {
          "output_type": "execute_result",
          "data": {
            "text/html": [
              "<div>\n",
              "<style scoped>\n",
              "    .dataframe tbody tr th:only-of-type {\n",
              "        vertical-align: middle;\n",
              "    }\n",
              "\n",
              "    .dataframe tbody tr th {\n",
              "        vertical-align: top;\n",
              "    }\n",
              "\n",
              "    .dataframe thead th {\n",
              "        text-align: right;\n",
              "    }\n",
              "</style>\n",
              "<table border=\"1\" class=\"dataframe\">\n",
              "  <thead>\n",
              "    <tr style=\"text-align: right;\">\n",
              "      <th></th>\n",
              "      <th>AHT</th>\n",
              "      <th>Splits</th>\n",
              "    </tr>\n",
              "  </thead>\n",
              "  <tbody>\n",
              "    <tr>\n",
              "      <th>AHT</th>\n",
              "      <td>1.000000</td>\n",
              "      <td>-0.019896</td>\n",
              "    </tr>\n",
              "    <tr>\n",
              "      <th>Splits</th>\n",
              "      <td>-0.019896</td>\n",
              "      <td>1.000000</td>\n",
              "    </tr>\n",
              "  </tbody>\n",
              "</table>\n",
              "</div>"
            ],
            "text/plain": [
              "             AHT    Splits\n",
              "AHT     1.000000 -0.019896\n",
              "Splits -0.019896  1.000000"
            ]
          },
          "metadata": {
            "tags": []
          },
          "execution_count": 98
        }
      ]
    },
    {
      "cell_type": "markdown",
      "metadata": {
        "id": "IO15W2qKhWsu"
      },
      "source": [
        "Cycle number does not impact cycle time"
      ]
    },
    {
      "cell_type": "markdown",
      "metadata": {
        "id": "1P_1GO8XQBcp"
      },
      "source": [
        "### **Thank You**"
      ]
    }
  ]
}